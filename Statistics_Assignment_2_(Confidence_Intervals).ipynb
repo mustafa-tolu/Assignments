{
  "nbformat": 4,
  "nbformat_minor": 0,
  "metadata": {
    "colab": {
      "name": "Statistics Assignment-2 (Confidence Intervals).ipynb",
      "provenance": [],
      "collapsed_sections": [],
      "authorship_tag": "ABX9TyNtCQkVgjLY/NQoSuF2KxUj",
      "include_colab_link": true
    },
    "kernelspec": {
      "name": "python3",
      "display_name": "Python 3"
    },
    "language_info": {
      "name": "python"
    }
  },
  "cells": [
    {
      "cell_type": "markdown",
      "metadata": {
        "id": "view-in-github",
        "colab_type": "text"
      },
      "source": [
        "<a href=\"https://colab.research.google.com/github/mustafa-tolu/clarusway_assignments/blob/main/Statistics_Assignment_2_(Confidence_Intervals).ipynb\" target=\"_parent\"><img src=\"https://colab.research.google.com/assets/colab-badge.svg\" alt=\"Open In Colab\"/></a>"
      ]
    },
    {
      "cell_type": "markdown",
      "source": [
        "## **Confidence Intervals Assignment**"
      ],
      "metadata": {
        "id": "hBgT9TMenLvp"
      }
    },
    {
      "cell_type": "markdown",
      "source": [
        "**1-** Suppose scores on exams in statistics are normally distributed with an unknown population mean and a population standard deviation of 3 points. A random sample of 36 scores is taken and gives a sample mean (sample mean score) of 68. Find a confidence interval estimate for the population mean exam score (the mean score on all exams).\n",
        "\n",
        "Find a 90% confidence interval for the true (population) mean of statistics exam scores."
      ],
      "metadata": {
        "id": "0HDTiI2MnCZA"
      }
    },
    {
      "cell_type": "code",
      "source": [
        "import numpy as np\n",
        "from scipy import stats\n",
        "import seaborn as sns\n",
        "import matplotlib.pyplot as plt"
      ],
      "metadata": {
        "id": "x7V_sVk6n-KA"
      },
      "execution_count": 1,
      "outputs": []
    },
    {
      "cell_type": "code",
      "source": [
        "# %90 Confidence Interval\n",
        "\n",
        "n = 36\n",
        "mean = 68\n",
        "sigma = 3\n",
        "\n",
        "stats.norm.interval(alpha=0.90,\n",
        "                loc=mean,\n",
        "                scale=sigma/np.sqrt(n))"
      ],
      "metadata": {
        "colab": {
          "base_uri": "https://localhost:8080/"
        },
        "id": "NUAV3NppnKWY",
        "outputId": "7a4cd7f9-94d6-4304-887a-b9366657f0b8"
      },
      "execution_count": 7,
      "outputs": [
        {
          "output_type": "execute_result",
          "data": {
            "text/plain": [
              "(67.17757318652427, 68.82242681347573)"
            ]
          },
          "metadata": {},
          "execution_count": 7
        }
      ]
    },
    {
      "cell_type": "markdown",
      "source": [
        "Solving with z-Score"
      ],
      "metadata": {
        "id": "N58-P6enoYQQ"
      }
    },
    {
      "cell_type": "code",
      "source": [
        "n = 36\n",
        "xbar = 68\n",
        "sigma = 3\n",
        "moe = 1.645 * sigma / np.sqrt(n)\n",
        "upper = xbar + moe\n",
        "lower = xbar - moe\n",
        "\n",
        "print(f\"{lower} ~ {upper}\")"
      ],
      "metadata": {
        "colab": {
          "base_uri": "https://localhost:8080/"
        },
        "id": "KCtiGdeYoKen",
        "outputId": "19e27080-9751-40de-aa61-7d8e7a1c29c9"
      },
      "execution_count": 5,
      "outputs": [
        {
          "output_type": "stream",
          "name": "stdout",
          "text": [
            "67.1775 ~ 68.8225\n"
          ]
        }
      ]
    },
    {
      "cell_type": "markdown",
      "source": [
        "**2-** What is the normal body temperature for healthy humans? A random sample of 130 healthy human body temperatures provided by Allen Shoemaker7 yielded 98.25 degrees and standard deviation 0.73 degrees.\n",
        "\n",
        "Give a 99% confidence interval for the average body temperature of healthy people."
      ],
      "metadata": {
        "id": "yNsKX-4ZpZBo"
      }
    },
    {
      "cell_type": "code",
      "source": [
        "# %99 Confidence Interval\n",
        "\n",
        "n2 = 130\n",
        "mean2 = 98.25\n",
        "sigma2 = 0.73\n",
        "\n",
        "stats.norm.interval(alpha=0.99,\n",
        "                loc=mean2,\n",
        "                scale=sigma2/np.sqrt(n2))"
      ],
      "metadata": {
        "colab": {
          "base_uri": "https://localhost:8080/"
        },
        "id": "Prz_WUxKplJV",
        "outputId": "24a99922-72f3-45f5-afbb-9d2629090d5a"
      },
      "execution_count": 9,
      "outputs": [
        {
          "output_type": "execute_result",
          "data": {
            "text/plain": [
              "(98.08508192246582, 98.41491807753418)"
            ]
          },
          "metadata": {},
          "execution_count": 9
        }
      ]
    },
    {
      "cell_type": "markdown",
      "source": [
        "Solving with z-Score"
      ],
      "metadata": {
        "id": "ju2ZaHZdpmb4"
      }
    },
    {
      "cell_type": "code",
      "source": [
        "n2 = 130\n",
        "xbar2 = 98.25\n",
        "sigma2 = 0.73\n",
        "SE2 = sigma / np.sqrt(n)\n",
        "moe2 = 2.58 * SE2\n",
        "\n",
        "upper2 = xbar2 + moe2\n",
        "lower2 = xbar2 - moe2\n",
        "print(f\"({lower2} - {upper2})\")"
      ],
      "metadata": {
        "colab": {
          "base_uri": "https://localhost:8080/"
        },
        "id": "IxfZTVbBpfl0",
        "outputId": "b71db23d-2d48-4feb-ce27-c5ee353736e0"
      },
      "execution_count": 8,
      "outputs": [
        {
          "output_type": "stream",
          "name": "stdout",
          "text": [
            "(96.96 - 99.54)\n"
          ]
        }
      ]
    },
    {
      "cell_type": "markdown",
      "source": [
        "**3-** The administrators for a hospital wished to estimate the average number of days required for inpatient treatment of patients between the ages of 25 and 34. A random sample of 500 hospital patients between these ages produced a mean and standard deviation equal to 5.4 and 3.1 days, respectively. \n",
        "\n",
        "Construct a 95% confidence interval for the mean length of stay for the population of patients from which the sample was drawn."
      ],
      "metadata": {
        "id": "YdtBXsYNrtLR"
      }
    },
    {
      "cell_type": "code",
      "source": [
        "# %95 Confidence Interval\n",
        "\n",
        "n3 = 500\n",
        "mean3 = 5.4\n",
        "sigma3 = 3.1\n",
        "\n",
        "stats.norm.interval(alpha=0.95,\n",
        "                loc=mean3,\n",
        "                scale=sigma3/np.sqrt(n3))"
      ],
      "metadata": {
        "colab": {
          "base_uri": "https://localhost:8080/"
        },
        "id": "Ft7uTojTryUv",
        "outputId": "2918353d-e9ab-4fb5-b034-6c9f1e4c86f9"
      },
      "execution_count": 10,
      "outputs": [
        {
          "output_type": "execute_result",
          "data": {
            "text/plain": [
              "(5.12827801242126, 5.67172198757874)"
            ]
          },
          "metadata": {},
          "execution_count": 10
        }
      ]
    },
    {
      "cell_type": "markdown",
      "source": [
        "Solving with z-Score"
      ],
      "metadata": {
        "id": "eNpDVAZOsWCJ"
      }
    },
    {
      "cell_type": "code",
      "source": [
        "n3 = 500\n",
        "xbar3 = 5.4\n",
        "sigma3 = 3.1\n",
        "SE3 = sigma / np.sqrt(n)\n",
        "moe3 = 1.96 * SE3\n",
        "\n",
        "upper3 = xbar3 + moe3\n",
        "lower3 = xbar3 - moe3\n",
        "print(f\"({lower3} - {upper3})\")"
      ],
      "metadata": {
        "colab": {
          "base_uri": "https://localhost:8080/"
        },
        "id": "qN8mIfzqsWSv",
        "outputId": "d52b8449-c129-4e0b-d85e-1631db5f1fce"
      },
      "execution_count": 11,
      "outputs": [
        {
          "output_type": "stream",
          "name": "stdout",
          "text": [
            "(4.42 - 6.380000000000001)\n"
          ]
        }
      ]
    }
  ]
}